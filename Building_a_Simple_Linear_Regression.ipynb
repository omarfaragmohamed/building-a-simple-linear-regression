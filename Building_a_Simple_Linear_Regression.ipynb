{
  "nbformat": 4,
  "nbformat_minor": 0,
  "metadata": {
    "colab": {
      "name": "Building a Simple Linear Regression.ipynb",
      "provenance": [],
      "collapsed_sections": []
    },
    "kernelspec": {
      "name": "python3",
      "display_name": "Python 3"
    }
  },
  "cells": [
    {
      "cell_type": "markdown",
      "metadata": {
        "id": "GxO3jxalGdCA",
        "colab_type": "text"
      },
      "source": [
        "# Welcome to Split 3\n",
        "\n",
        "You 've learnt so many Coding skills in Split 2 and here comes your time to see how far've you learnt.\n",
        "\n",
        "\n",
        "You also learnt a cool amount of Statisitcs Let's Start building together a **Simple Linear Regression** Model."
      ]
    },
    {
      "cell_type": "markdown",
      "metadata": {
        "id": "xUpRxwRXPhPT",
        "colab_type": "text"
      },
      "source": [
        "# FOLLOW THESE STEPS "
      ]
    },
    {
      "cell_type": "markdown",
      "metadata": {
        "id": "xMowuyWPIUmV",
        "colab_type": "text"
      },
      "source": [
        "**First** : Let me Put You on the Road.\n",
        "\n",
        "If you are using Google Colab please Execute the following Code in next Cell  , so you will give the Permission for Google Colab to Access your folders in Google Drive \n",
        "\n",
        "***DO NOT RUN IT IF YOU ARE ON JUPYTER ***"
      ]
    },
    {
      "cell_type": "code",
      "metadata": {
        "id": "XgNXJOnPwkoG",
        "colab_type": "code",
        "colab": {}
      },
      "source": [
        "from google.colab import drive\n",
        "drive.mount('/content/drive')"
      ],
      "execution_count": 0,
      "outputs": []
    },
    {
      "cell_type": "markdown",
      "metadata": {
        "id": "PXWREjgWJGw7",
        "colab_type": "text"
      },
      "source": [
        "**Second**  Let's Install Our Dependencies \n",
        "`xlrd` is used for  Reading Excel Files \n"
      ]
    },
    {
      "cell_type": "code",
      "metadata": {
        "id": "evnl_eAd3Xam",
        "colab_type": "code",
        "colab": {}
      },
      "source": [
        "!pip install xlrd"
      ],
      "execution_count": 0,
      "outputs": []
    },
    {
      "cell_type": "markdown",
      "metadata": {
        "id": "o2Bx7sKsJYcr",
        "colab_type": "text"
      },
      "source": [
        "**Third** : Let's Now Import the Packages that we are going to use "
      ]
    },
    {
      "cell_type": "code",
      "metadata": {
        "id": "D3bk89gcYR8m",
        "colab_type": "code",
        "colab": {}
      },
      "source": [
        "import numpy as np   # For Matrices Manipulations\n",
        "import pandas as pd  # For Data frames etc \n",
        "import xlrd  # For Excel Files\n",
        "import os   # For Changing to the Correct Directory "
      ],
      "execution_count": 0,
      "outputs": []
    },
    {
      "cell_type": "code",
      "metadata": {
        "id": "BQq0QjKBzzjc",
        "colab_type": "code",
        "colab": {}
      },
      "source": [
        "!ls            #  its an Order to List all files in the Current Directory You are in "
      ],
      "execution_count": 0,
      "outputs": []
    },
    {
      "cell_type": "code",
      "metadata": {
        "id": "sKlAh0EXzuav",
        "colab_type": "code",
        "colab": {}
      },
      "source": [
        "os.chdir('drive/My Drive/.............. ????')       # Try to fix this to  the Correct path So you can find The file"
      ],
      "execution_count": 0,
      "outputs": []
    },
    {
      "cell_type": "markdown",
      "metadata": {
        "id": "cwzEZCAtLX57",
        "colab_type": "text"
      },
      "source": [
        "**Forth** :  Type a Code to Read  The Excel File \n",
        "hint go and use `pd.read_excel`"
      ]
    },
    {
      "cell_type": "code",
      "metadata": {
        "id": "WX5s6BsA1CtE",
        "colab_type": "code",
        "outputId": "fdeef8ac-30fd-473c-9790-f749c9ddfba5",
        "colab": {
          "base_uri": "https://localhost:8080/",
          "height": 436
        }
      },
      "source": [
        "import pandas as pd\n",
        "df= pd.read_excel('Insurance.xls')\n",
        "df"
      ],
      "execution_count": 1,
      "outputs": [
        {
          "output_type": "stream",
          "text": [
            "*** No CODEPAGE record, no encoding_override: will use 'ascii'\n"
          ],
          "name": "stdout"
        },
        {
          "output_type": "execute_result",
          "data": {
            "text/html": [
              "<div>\n",
              "<style scoped>\n",
              "    .dataframe tbody tr th:only-of-type {\n",
              "        vertical-align: middle;\n",
              "    }\n",
              "\n",
              "    .dataframe tbody tr th {\n",
              "        vertical-align: top;\n",
              "    }\n",
              "\n",
              "    .dataframe thead th {\n",
              "        text-align: right;\n",
              "    }\n",
              "</style>\n",
              "<table border=\"1\" class=\"dataframe\">\n",
              "  <thead>\n",
              "    <tr style=\"text-align: right;\">\n",
              "      <th></th>\n",
              "      <th>X</th>\n",
              "      <th>Y</th>\n",
              "    </tr>\n",
              "  </thead>\n",
              "  <tbody>\n",
              "    <tr>\n",
              "      <th>0</th>\n",
              "      <td>108</td>\n",
              "      <td>392.5</td>\n",
              "    </tr>\n",
              "    <tr>\n",
              "      <th>1</th>\n",
              "      <td>19</td>\n",
              "      <td>46.2</td>\n",
              "    </tr>\n",
              "    <tr>\n",
              "      <th>2</th>\n",
              "      <td>13</td>\n",
              "      <td>15.7</td>\n",
              "    </tr>\n",
              "    <tr>\n",
              "      <th>3</th>\n",
              "      <td>124</td>\n",
              "      <td>422.2</td>\n",
              "    </tr>\n",
              "    <tr>\n",
              "      <th>4</th>\n",
              "      <td>40</td>\n",
              "      <td>119.4</td>\n",
              "    </tr>\n",
              "    <tr>\n",
              "      <th>...</th>\n",
              "      <td>...</td>\n",
              "      <td>...</td>\n",
              "    </tr>\n",
              "    <tr>\n",
              "      <th>58</th>\n",
              "      <td>9</td>\n",
              "      <td>87.4</td>\n",
              "    </tr>\n",
              "    <tr>\n",
              "      <th>59</th>\n",
              "      <td>31</td>\n",
              "      <td>209.8</td>\n",
              "    </tr>\n",
              "    <tr>\n",
              "      <th>60</th>\n",
              "      <td>14</td>\n",
              "      <td>95.5</td>\n",
              "    </tr>\n",
              "    <tr>\n",
              "      <th>61</th>\n",
              "      <td>53</td>\n",
              "      <td>244.6</td>\n",
              "    </tr>\n",
              "    <tr>\n",
              "      <th>62</th>\n",
              "      <td>26</td>\n",
              "      <td>187.5</td>\n",
              "    </tr>\n",
              "  </tbody>\n",
              "</table>\n",
              "<p>63 rows × 2 columns</p>\n",
              "</div>"
            ],
            "text/plain": [
              "      X      Y\n",
              "0   108  392.5\n",
              "1    19   46.2\n",
              "2    13   15.7\n",
              "3   124  422.2\n",
              "4    40  119.4\n",
              "..  ...    ...\n",
              "58    9   87.4\n",
              "59   31  209.8\n",
              "60   14   95.5\n",
              "61   53  244.6\n",
              "62   26  187.5\n",
              "\n",
              "[63 rows x 2 columns]"
            ]
          },
          "metadata": {
            "tags": []
          },
          "execution_count": 1
        }
      ]
    },
    {
      "cell_type": "markdown",
      "metadata": {
        "id": "ndOyFGg0LVDV",
        "colab_type": "text"
      },
      "source": [
        "So this Data is about:-\n",
        "\n",
        "Auto Insurance in Sweden\n",
        "In the following data\n",
        "\n",
        "X = number of claims\n",
        "\n",
        "Y = total payment for all the claims in thousands of Swedish Kronor\n",
        "\n",
        "for geographical zones in Sweden\n",
        "Reference: Swedish Committee on Analysis of Risk Premium in Motor Insurance\n",
        "\n"
      ]
    },
    {
      "cell_type": "markdown",
      "metadata": {
        "id": "N_1kH03mMHYD",
        "colab_type": "text"
      },
      "source": [
        "**Fifth** Type a Code  that Change the Features and Labels  from pandas frame into Numpy Arrays.\n",
        "\n",
        "*40 rows only* for **Training** and the Rest for **Testing**\n",
        "hint : use `df.iloc`"
      ]
    },
    {
      "cell_type": "code",
      "metadata": {
        "id": "bVXC5ZIz3u1N",
        "colab_type": "code",
        "colab": {}
      },
      "source": [
        "X_train= df.iloc[:40,0]\n",
        "y_train= df.iloc[:40,1]\n",
        "X_test= df.iloc[40:,0]\n",
        "y_test= df.iloc[40:,1]"
      ],
      "execution_count": 0,
      "outputs": []
    },
    {
      "cell_type": "markdown",
      "metadata": {
        "id": "2m8PtSPjNC3a",
        "colab_type": "text"
      },
      "source": [
        "**Sixth** Check the Type and Size of the Arrays you created by Printing them.\n",
        "hint Go and use :  `shape` , `type` "
      ]
    },
    {
      "cell_type": "code",
      "metadata": {
        "id": "PzKkHDR2NYOr",
        "colab_type": "code",
        "outputId": "c5236cc2-e7b6-4fc3-878e-451a05ddb0e1",
        "colab": {
          "base_uri": "https://localhost:8080/",
          "height": 122
        }
      },
      "source": [
        "print('The Features to be trained on :', X_train.shape )\n",
        "print('The Labels to be trained on :', y_train.shape )\n",
        "print('The Features to be tested on :', X_test.shape )\n",
        "print('The Labels to be tested on :', y_test.shape )\n",
        "print('X_train type : ', type(X_train), 'X_test type :',type(X_test) ,'y_train type :', type(y_train) , 'y_test type :', type(y_test) )"
      ],
      "execution_count": 4,
      "outputs": [
        {
          "output_type": "stream",
          "text": [
            "The Features to be trained on : (40,)\n",
            "The Labels to be trained on : (40,)\n",
            "The Features to be tested on : (23,)\n",
            "The Labels to be tested on : (23,)\n",
            "X_train type :  <class 'pandas.core.series.Series'> X_test type : <class 'pandas.core.series.Series'> y_train type : <class 'pandas.core.series.Series'> y_test type : <class 'pandas.core.series.Series'>\n"
          ],
          "name": "stdout"
        }
      ]
    },
    {
      "cell_type": "markdown",
      "metadata": {
        "id": "akZOUbc0OPhz",
        "colab_type": "text"
      },
      "source": [
        "**Seventh** Let me do this for you  but watch me properly, its for Visualization."
      ]
    },
    {
      "cell_type": "code",
      "metadata": {
        "id": "gjfIFHMp3pYl",
        "colab_type": "code",
        "outputId": "43f932fa-ca95-4905-b204-c9d0867c51fa",
        "colab": {
          "base_uri": "https://localhost:8080/",
          "height": 298
        }
      },
      "source": [
        "import matplotlib.pyplot as plt # A Great Package For Plotting and Visualization \n",
        "plt.figure(figsize=(4,4))     # The Plotting Window Size \n",
        "plt.title(' X vs Y Regression', fontsize=12 , fontstyle='italic')  # Title , Font size and Style \n",
        "plt.scatter(X_train ,y_train , alpha =0.5, label='Y')  # NOTE : Make Sure  x_train , y_train  IN Data Type ( Array )\n",
        "plt.show   # Showing the Result of plotting "
      ],
      "execution_count": 5,
      "outputs": [
        {
          "output_type": "execute_result",
          "data": {
            "text/plain": [
              "<function matplotlib.pyplot.show>"
            ]
          },
          "metadata": {
            "tags": []
          },
          "execution_count": 5
        },
        {
          "output_type": "display_data",
          "data": {
            "image/png": "[encoded data removed]",
            "text/plain": [
              "<Figure size 288x288 with 1 Axes>"
            ]
          },
          "metadata": {
            "tags": [],
            "needs_background": "light"
          }
        }
      ]
    },
    {
      "cell_type": "markdown",
      "metadata": {
        "id": "7Tn1oPkjO_oF",
        "colab_type": "text"
      },
      "source": [
        "Hungry for Statistics ?\n",
        "Okey Let's Go for it, But Do you even remember the Expressions?"
      ]
    },
    {
      "cell_type": "markdown",
      "metadata": {
        "id": "-5GzNhIhP18j",
        "colab_type": "text"
      },
      "source": [
        "**Eighth** ? I don't know how to type this  but i meant 8th\n",
        "Okey, Whatever Just Go and build a Function Mean Squared Error and call it `MSE()` That Takes a List of Actual Values and List of Predicted Values  then Returning the Mean Squared Error between them \n"
      ]
    },
    {
      "cell_type": "code",
      "metadata": {
        "id": "P9idEk1rPzHD",
        "colab_type": "code",
        "colab": {}
      },
      "source": [
        "def MSE (actual, predicted):\n",
        "    error= np.sum(actual-predicted)\n",
        "    mse_=(error)**2/len(actual)\n",
        "    return mse_ "
      ],
      "execution_count": 0,
      "outputs": []
    },
    {
      "cell_type": "markdown",
      "metadata": {
        "id": "_DLHOwjeQ_3d",
        "colab_type": "text"
      },
      "source": [
        "**Ninth** Build  Following Functions:\n",
        "\n",
        "1- `Mean()`  its input :  Values ,  its Ouput : Mean of the Values.\n",
        "2- `Variance()` its input : Values, Mean , its Output : Variance of the Values.\n",
        "\n",
        "3- `Covariance()` its input : Values of X, X_mean , y_mean ,y, its Output : Covariance of X and Y.\n",
        "\n"
      ]
    },
    {
      "cell_type": "code",
      "metadata": {
        "id": "fThEft4rUktb",
        "colab_type": "code",
        "colab": {}
      },
      "source": [
        "def mean (values):\n",
        "    m_value= np.sum(values)/len(values)\n",
        "    return m_value\n",
        "    \n",
        "def variance(values,mean):\n",
        "    v=np.sum((values-mean)**2) / len(values)\n",
        "    return v\n",
        "def covariance(x,x_bar,y,y_bar):\n",
        "        cov= np.sum((x-x_bar)*(y-y_bar))/len(x)\n",
        "        return cov\n",
        "  "
      ],
      "execution_count": 0,
      "outputs": []
    },
    {
      "cell_type": "markdown",
      "metadata": {
        "id": "0iBwSUvCUsva",
        "colab_type": "text"
      },
      "source": [
        "**Tenth** : watch out for a Sensitive Point you now need to build a Function that will use  the Previous Functions to return the Co-efficents of the Best Fit Line  which  is Beta Zero and Beta One "
      ]
    },
    {
      "cell_type": "code",
      "metadata": {
        "id": "wT6RKZwgyEHs",
        "colab_type": "code",
        "colab": {}
      },
      "source": [
        "def coefficents(x,y):\n",
        "      B1=covariance(x,mean(x),y,mean(y))/variance(x,mean(x))\n",
        "      B0=mean(y)-B1*mean(x)\n",
        "      return B1,B0"
      ],
      "execution_count": 0,
      "outputs": []
    },
    {
      "cell_type": "code",
      "metadata": {
        "id": "3oWxf8RVjFdx",
        "colab_type": "code",
        "colab": {
          "base_uri": "https://localhost:8080/",
          "height": 34
        },
        "outputId": "ca37f5f7-2ca2-4143-c7bf-bd77cd71c9c6"
      },
      "source": [
        "coefficents(X_train,y_train)"
      ],
      "execution_count": 17,
      "outputs": [
        {
          "output_type": "execute_result",
          "data": {
            "text/plain": [
              "(3.46902946250411, 11.184737873348638)"
            ]
          },
          "metadata": {
            "tags": []
          },
          "execution_count": 17
        }
      ]
    },
    {
      "cell_type": "markdown",
      "metadata": {
        "id": "UW1JGasUyPiC",
        "colab_type": "text"
      },
      "source": [
        "**Eleventh**: Build a function  that will take the Input Training Data and Testing the Data , Then call the Co efficient Function with the Training Data to get the Co efficents then use it for Building the Best fit Line and return the Predictions of the Test set \n"
      ]
    },
    {
      "cell_type": "code",
      "metadata": {
        "id": "EISmDwSiLqxu",
        "colab_type": "code",
        "colab": {}
      },
      "source": [
        "def SimpleLinearRegression(xtrain,xtest,ytrain):\n",
        "      B1,B0=coefficents(xtrain,ytrain)\n",
        "      y_prd = B1*xtest + B0\n",
        "      return y_prd\n",
        "    "
      ],
      "execution_count": 0,
      "outputs": []
    },
    {
      "cell_type": "code",
      "metadata": {
        "id": "WLeuNwRCkFO1",
        "colab_type": "code",
        "colab": {}
      },
      "source": [
        "y_predict1=SimpleLinearRegression(X_train,X_test,y_train)"
      ],
      "execution_count": 0,
      "outputs": []
    },
    {
      "cell_type": "markdown",
      "metadata": {
        "id": "r9G9YH-JL0jc",
        "colab_type": "text"
      },
      "source": [
        "**Twelveth**: Finally Build a Function that Calls The `MSE` function and the `SimpleLineRegression` Function and use it to Print the Result as an Evaluation for the model"
      ]
    },
    {
      "cell_type": "code",
      "metadata": {
        "id": "ak3WsQ6KM3w-",
        "colab_type": "code",
        "colab": {}
      },
      "source": [
        "def Evaluate (x_train,x_test,y_train,y_test):\n",
        "    y_pre=SimpleLinearRegression(x_train,x_test,y_train)\n",
        "    mse= MSE(y_test,y_pre)\n",
        "    return mse"
      ],
      "execution_count": 0,
      "outputs": []
    },
    {
      "cell_type": "code",
      "metadata": {
        "id": "enRvqKR_kIq6",
        "colab_type": "code",
        "colab": {
          "base_uri": "https://localhost:8080/",
          "height": 34
        },
        "outputId": "631c55b1-7bc7-4d26-abe2-95805d14baee"
      },
      "source": [
        "Evaluate(X_train,X_test,y_train,y_test)"
      ],
      "execution_count": 26,
      "outputs": [
        {
          "output_type": "execute_result",
          "data": {
            "text/plain": [
              "9824.327109131904"
            ]
          },
          "metadata": {
            "tags": []
          },
          "execution_count": 26
        }
      ]
    },
    {
      "cell_type": "markdown",
      "metadata": {
        "id": "lONNIZLeM_XT",
        "colab_type": "text"
      },
      "source": [
        "Let me Now visualize your work for you ! Just help me with the Naming"
      ]
    },
    {
      "cell_type": "code",
      "metadata": {
        "id": "H3OyI_SeY2pf",
        "colab_type": "code",
        "colab": {
          "base_uri": "https://localhost:8080/",
          "height": 525
        },
        "outputId": "2305c1e2-89d3-444f-eac0-855c2895a6b5"
      },
      "source": [
        "import matplotlib.pyplot as plt\n",
        "plt.figure(figsize=(10,8))\n",
        "plt.title('PREDICTION VS ACTUAL ', fontsize=24 , fontstyle='italic')\n",
        "plt.scatter(X_train, y_train, linewidth=2.0)\n",
        "plt.plot(X_test, y_predict1, linewidth=2.0)  ## REPLACE X AND Y WITH  X_test AND PREDS ARRAYS! \n",
        "plt.show"
      ],
      "execution_count": 27,
      "outputs": [
        {
          "output_type": "execute_result",
          "data": {
            "text/plain": [
              "<function matplotlib.pyplot.show>"
            ]
          },
          "metadata": {
            "tags": []
          },
          "execution_count": 27
        },
        {
          "output_type": "display_data",
          "data": {
            "image/png": "[encoded data removed]",
            "text/plain": [
              "<Figure size 720x576 with 1 Axes>"
            ]
          },
          "metadata": {
            "tags": [],
            "needs_background": "light"
          }
        }
      ]
    },
    {
      "cell_type": "markdown",
      "metadata": {
        "id": "eu3O194UNdMc",
        "colab_type": "text"
      },
      "source": [
        "You 've done So *GREAT* today !\n",
        "# Thank You"
      ]
    },
    {
      "cell_type": "code",
      "metadata": {
        "id": "VQfg9xaTNpOT",
        "colab_type": "code",
        "colab": {}
      },
      "source": [
        ""
      ],
      "execution_count": 0,
      "outputs": []
    }
  ]
}